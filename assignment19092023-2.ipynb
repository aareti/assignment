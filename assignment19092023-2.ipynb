{
  "nbformat": 4,
  "nbformat_minor": 0,
  "metadata": {
    "colab": {
      "provenance": []
    },
    "kernelspec": {
      "name": "python3",
      "display_name": "Python 3"
    },
    "language_info": {
      "name": "python"
    }
  },
  "cells": [
    {
      "cell_type": "markdown",
      "source": [
        "1. Declare two variables, `x` and `y`, and assign them integer values. Swap the\n",
        "values of these variables without using any temporary variable."
      ],
      "metadata": {
        "id": "ARMX003uvFqm"
      }
    },
    {
      "cell_type": "code",
      "execution_count": 1,
      "metadata": {
        "colab": {
          "base_uri": "https://localhost:8080/"
        },
        "id": "1Tl9X3msvAs7",
        "outputId": "09d62202-f98f-41ed-8c2f-a08ae0a3cac1"
      },
      "outputs": [
        {
          "output_type": "stream",
          "name": "stdout",
          "text": [
            "x = 10\n",
            "y = 5\n"
          ]
        }
      ],
      "source": [
        "x = 5\n",
        "y = 10\n",
        "\n",
        "x, y = y, x\n",
        "print(\"x =\", x)\n",
        "print(\"y =\", y)"
      ]
    },
    {
      "cell_type": "markdown",
      "source": [
        "2. Create a program that calculates the area of a rectangle. Take the length and\n",
        "width as inputs from the user and store them in variables. Calculate and\n",
        "display the area."
      ],
      "metadata": {
        "id": "zt590oaXvNaM"
      }
    },
    {
      "cell_type": "code",
      "source": [
        "l = float(input('Enter the length of a Rectangle: '))\n",
        "b = float(input('Enter the breadth of a Rectangle: '))\n",
        "Area = l * b\n",
        "print(\"Area of a Rectangle is: %.2f\" %Area)"
      ],
      "metadata": {
        "colab": {
          "base_uri": "https://localhost:8080/"
        },
        "id": "oynF3BdnvQdn",
        "outputId": "946bccfc-37e7-4fd8-8da4-1c62a759bd2b"
      },
      "execution_count": 2,
      "outputs": [
        {
          "output_type": "stream",
          "name": "stdout",
          "text": [
            "Enter the length of a Rectangle: 34\n",
            "Enter the breadth of a Rectangle: 23\n",
            "Area of a Rectangle is: 782.00\n"
          ]
        }
      ]
    },
    {
      "cell_type": "markdown",
      "source": [
        "3. Write a Python program that converts temperatures from Celsius to\n",
        "Fahrenheit. Take the temperature in Celsius as input, store it in a variable,\n",
        "convert it to Fahrenheit, and display the result."
      ],
      "metadata": {
        "id": "uLFqiT2bvni0"
      }
    },
    {
      "cell_type": "code",
      "source": [
        "# Temperature in celsius degree\n",
        "celsius = 47\n",
        "\n",
        "# Converting the temperature to\n",
        "# fehrenheit using the formula\n",
        "fahrenheit = (celsius * 1.8) + 32\n",
        "\n",
        "# printing the result\n",
        "print('%.2f Celsius is equivalent to: %.2f Fahrenheit'\n",
        "      % (celsius, fahrenheit))"
      ],
      "metadata": {
        "colab": {
          "base_uri": "https://localhost:8080/"
        },
        "id": "G1QEeTLyvrNU",
        "outputId": "93765eb5-1f43-4f54-dbd7-1ebc2ebad7c5"
      },
      "execution_count": 3,
      "outputs": [
        {
          "output_type": "stream",
          "name": "stdout",
          "text": [
            "47.00 Celsius is equivalent to: 116.60 Fahrenheit\n"
          ]
        }
      ]
    },
    {
      "cell_type": "markdown",
      "source": [
        "1. Write a Python program that takes a string as input and prints the length of\n",
        "the string."
      ],
      "metadata": {
        "id": "q2xc_P8XwpgV"
      }
    },
    {
      "cell_type": "code",
      "source": [
        "string = \"aarti\"\n",
        "len(string)"
      ],
      "metadata": {
        "colab": {
          "base_uri": "https://localhost:8080/"
        },
        "id": "r0zUbAe3wup4",
        "outputId": "5b56b91b-6431-4c5f-868a-a940fd7d8896"
      },
      "execution_count": 4,
      "outputs": [
        {
          "output_type": "execute_result",
          "data": {
            "text/plain": [
              "5"
            ]
          },
          "metadata": {},
          "execution_count": 4
        }
      ]
    },
    {
      "cell_type": "markdown",
      "source": [
        "2. Create a program that takes a sentence from the user and counts the number\n",
        "of vowels (a, e, i, o, u) in the string."
      ],
      "metadata": {
        "id": "bne0nN8aw7rV"
      }
    },
    {
      "cell_type": "code",
      "source": [
        "string = input(\"enter string: \")\n",
        "string= string.lower() #convert to lower case\n",
        "\n",
        "count = 0 #counter for vowels\n",
        "\n",
        "for i in string :\n",
        "    if i=='a'or i=='e'or i=='i'or i=='o' or i=='u': #check forn vowels\n",
        "      count = count+1\n",
        "\n",
        "if count == 0:\n",
        "  print(\"No vowels found\")\n",
        "else:\n",
        "  print(\"no of vowels:\",count)"
      ],
      "metadata": {
        "colab": {
          "base_uri": "https://localhost:8080/"
        },
        "id": "6hViKEGJxBO_",
        "outputId": "2200f4de-d67a-4fb9-f6d8-a98801ef75bb"
      },
      "execution_count": 22,
      "outputs": [
        {
          "output_type": "stream",
          "name": "stdout",
          "text": [
            "enter string: aarti\n",
            "no of vowels: 3\n"
          ]
        }
      ]
    },
    {
      "cell_type": "markdown",
      "source": [
        "3. Given a string, reverse the order of characters using string slicing and print\n",
        "the reversed string."
      ],
      "metadata": {
        "id": "swZzpG120Psq"
      }
    },
    {
      "cell_type": "code",
      "source": [
        "string = input(\"enter string: \")\n",
        "print(\"original string:\",string)\n",
        "print(\"modified string: \",string[::-1]) #reverse string"
      ],
      "metadata": {
        "colab": {
          "base_uri": "https://localhost:8080/"
        },
        "id": "g0HpRXY30VBD",
        "outputId": "fb2f409e-7064-484d-9b04-5fd43ecd57e3"
      },
      "execution_count": 27,
      "outputs": [
        {
          "output_type": "stream",
          "name": "stdout",
          "text": [
            "enter string: aarti\n",
            "original string: aarti\n",
            "modified string:  itraa\n",
            "modified string:  <reversed object at 0x7df51c60a110>\n"
          ]
        }
      ]
    },
    {
      "cell_type": "markdown",
      "source": [
        "4. Write a program that takes a string as input and checks if it is a palindrome\n",
        "(reads the same forwards and backwards)."
      ],
      "metadata": {
        "id": "qsLE54Il09kl"
      }
    },
    {
      "cell_type": "code",
      "source": [
        "\n",
        "\n",
        "my_str = input(\" enter string :\")\n",
        "my_str = my_str.casefold() #convert to lower case\n",
        "\n",
        "\n",
        "rev_str = reversed(my_str) #reverse string\n",
        "\n",
        "if list(my_str) == list(rev_str): #compare string\n",
        "   print(\"The string is a palindrome.\")\n",
        "else:\n",
        "   print(\"The string is not a palindrome.\")"
      ],
      "metadata": {
        "colab": {
          "base_uri": "https://localhost:8080/"
        },
        "id": "tPm-c4pE1CGK",
        "outputId": "5fb38d2e-2d65-443f-9ae8-3c4328b10f1d"
      },
      "execution_count": 25,
      "outputs": [
        {
          "output_type": "stream",
          "name": "stdout",
          "text": [
            " enter string :madam\n",
            "The string is a palindrome.\n"
          ]
        }
      ]
    },
    {
      "cell_type": "markdown",
      "source": [
        "5. Create a program that takes a string as input and removes all the spaces from\n",
        "it. Print the modified string without spaces."
      ],
      "metadata": {
        "id": "RzscZfnF1TPi"
      }
    },
    {
      "cell_type": "code",
      "source": [
        "my_str = input(\"enter string :\")\n",
        "print(my_str.replace(\" \",\"\")) # remove spaces"
      ],
      "metadata": {
        "colab": {
          "base_uri": "https://localhost:8080/"
        },
        "id": "_r26SQbL1WNj",
        "outputId": "044eac85-0f1c-4956-f11a-72c0825210c5"
      },
      "execution_count": 26,
      "outputs": [
        {
          "output_type": "stream",
          "name": "stdout",
          "text": [
            "enter string :hello aarti\n",
            "helloaarti\n"
          ]
        }
      ]
    }
  ]
}